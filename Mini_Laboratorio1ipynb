{
  "cells": [
    {
      "cell_type": "markdown",
      "metadata": {
        "id": "view-in-github",
        "colab_type": "text"
      },
      "source": [
        "<a href=\"https://colab.research.google.com/github/MiguelAngeloTr/ALMACENAMIENTO_DATOS_ESPE/blob/main/Mini_Laboratorio1.ipynb\" target=\"_parent\"><img src=\"https://colab.research.google.com/assets/colab-badge.svg\" alt=\"Open In Colab\"/></a>"
      ]
    },
    {
      "cell_type": "markdown",
      "id": "939d46c5",
      "metadata": {
        "id": "939d46c5"
      },
      "source": [
        "# Laboratorio de Python: Listas, Tuplas, Diccionarios y Pandas\n",
        "\n",
        "Diseñado por: Prof. Juan Manuel Núñez Velasco\n",
        "\n",
        "Curso: ETL(Gestión y Almacenamiento de Datos)\n",
        "\n",
        "Bienvenid@s estudiantes a este mini-laboratorio en formato cuaderno. Aquí encontrarás:\n",
        "- Explicaciones **breves y claras**.\n",
        "- Un **ejemplo** ejecutable.\n",
        "- Un **ejercicio** justo debajo para practicar - Un **ejercicio** Extra\n",
        "- Al final, una sección con **soluciones sugeridas** (opcionales) por si quieres comparar.\n",
        "\n",
        "> Recomendación: intenta resolver los ejercicios **sin mirar** algunas soluciones propuestas.\n"
      ]
    },
    {
      "cell_type": "markdown",
      "id": "7ad12bd1",
      "metadata": {
        "id": "7ad12bd1"
      },
      "source": [
        "## Cómo usar este cuaderno\n",
        "\n",
        "1. Lee la explicación de cada sección.\n",
        "0. Ejecuta y compreden temas de fundamentos de Python\n",
        "1. Ejecuta la celda de **Ejemplo** para ver cómo funciona.\n",
        "2. Resuelve el **Ejercicio** en la celda indicada (puedes modificarla libremente).\n",
        "3. Si lo necesitas, revisa la sección de **Soluciones sugeridas** al final.\n",
        "\n",
        "---\n"
      ]
    },
    {
      "cell_type": "markdown",
      "source": [
        "## 0. Variables,tipos de datos y operandos\n",
        "\n",
        "En Python, una variable se crea en el momento en que le asignas un valor. No necesitas declarar el tipo explícitamente; Python es **dinámicamente tipado**."
      ],
      "metadata": {
        "id": "z2xsiblyy6mP"
      },
      "id": "z2xsiblyy6mP"
    },
    {
      "cell_type": "code",
      "source": [
        "# Asignación básica\n",
        "x = 42          # int\n",
        "pi = 3.1416     # float\n",
        "nombre = \"Ada\"  # str\n",
        "vivo = True     # bool\n",
        "nada = None     # NoneType\n",
        "\n",
        "x, pi, nombre, vivo, nada"
      ],
      "metadata": {
        "colab": {
          "base_uri": "https://localhost:8080/"
        },
        "id": "zMZqASany-L9",
        "outputId": "c1119053-267d-4f0c-b0e1-1d72b12b34d2"
      },
      "id": "zMZqASany-L9",
      "execution_count": null,
      "outputs": [
        {
          "output_type": "execute_result",
          "data": {
            "text/plain": [
              "(42, 3.1416, 'Ada', True, None)"
            ]
          },
          "metadata": {},
          "execution_count": 16
        }
      ]
    },
    {
      "cell_type": "code",
      "source": [
        "# Asignación múltiple\n",
        "a, b, c = 1, 2, 3\n",
        "a,b,c"
      ],
      "metadata": {
        "colab": {
          "base_uri": "https://localhost:8080/"
        },
        "id": "-C8KHzHQzIki",
        "outputId": "eb3d4b63-c1e3-467e-da4b-9e7415820270"
      },
      "id": "-C8KHzHQzIki",
      "execution_count": null,
      "outputs": [
        {
          "output_type": "execute_result",
          "data": {
            "text/plain": [
              "(1, 2, 3)"
            ]
          },
          "metadata": {},
          "execution_count": 18
        }
      ]
    },
    {
      "cell_type": "code",
      "source": [
        "# Tipos: usa type() para inspeccionar\n",
        "type(42), type(3.0), type(\"hola\"), type(True), type(None)"
      ],
      "metadata": {
        "colab": {
          "base_uri": "https://localhost:8080/"
        },
        "id": "JTChG5IVzVdp",
        "outputId": "e855617f-c2ab-4e26-ad15-812f7a84bfac"
      },
      "id": "JTChG5IVzVdp",
      "execution_count": null,
      "outputs": [
        {
          "output_type": "execute_result",
          "data": {
            "text/plain": [
              "(int, float, str, bool, NoneType)"
            ]
          },
          "metadata": {},
          "execution_count": 19
        }
      ]
    },
    {
      "cell_type": "markdown",
      "source": [
        "### Operadores y operandos\n",
        "\n",
        "**Aritméticos**: `+`, `-`, `*`, `/` (float), `//` (división entera), `%` (módulo), `**` (potencia)"
      ],
      "metadata": {
        "id": "7dv3KfxWzqUy"
      },
      "id": "7dv3KfxWzqUy"
    },
    {
      "cell_type": "code",
      "source": [
        "# Aritméticos\n",
        "7 + 5, 7 - 5, 7 * 5, 7 / 5, 7 // 5, 7 % 5, 2 ** 10"
      ],
      "metadata": {
        "colab": {
          "base_uri": "https://localhost:8080/"
        },
        "id": "LjFch6HQzpj0",
        "outputId": "d8da2eb8-0248-4279-d10e-2e68f88b7835"
      },
      "id": "LjFch6HQzpj0",
      "execution_count": null,
      "outputs": [
        {
          "output_type": "execute_result",
          "data": {
            "text/plain": [
              "(12, 2, 35, 1.4, 1, 2, 1024)"
            ]
          },
          "metadata": {},
          "execution_count": 20
        }
      ]
    },
    {
      "cell_type": "markdown",
      "source": [
        "**Comparación**: `==`, `!=`, `>`, `<`, `>=`, `<=`  \n",
        "Devuelven `True` o `False`.\n"
      ],
      "metadata": {
        "id": "bexgwBhiz3ta"
      },
      "id": "bexgwBhiz3ta"
    },
    {
      "cell_type": "code",
      "source": [
        "3 == 3, 3 != 4, 5 > 2, 5 <= 5"
      ],
      "metadata": {
        "colab": {
          "base_uri": "https://localhost:8080/"
        },
        "id": "wub8GVexzavL",
        "outputId": "eaa15210-4f2d-4020-bb6d-2553beaa441f"
      },
      "id": "wub8GVexzavL",
      "execution_count": null,
      "outputs": [
        {
          "output_type": "execute_result",
          "data": {
            "text/plain": [
              "(True, True, True, True)"
            ]
          },
          "metadata": {},
          "execution_count": 21
        }
      ]
    },
    {
      "cell_type": "markdown",
      "source": [
        "**Lógicos**: `and`, `or`, `not`  \n",
        "Combinan expresiones booleanas."
      ],
      "metadata": {
        "id": "LhM4SdUoz_v0"
      },
      "id": "LhM4SdUoz_v0"
    },
    {
      "cell_type": "code",
      "source": [
        "True and False, True or False, not False"
      ],
      "metadata": {
        "colab": {
          "base_uri": "https://localhost:8080/"
        },
        "id": "DOstfjTw0Anz",
        "outputId": "b29c6e11-6a7f-443c-cf1d-486cfd668b60"
      },
      "id": "DOstfjTw0Anz",
      "execution_count": null,
      "outputs": [
        {
          "output_type": "execute_result",
          "data": {
            "text/plain": [
              "(False, True, True)"
            ]
          },
          "metadata": {},
          "execution_count": 22
        }
      ]
    },
    {
      "cell_type": "markdown",
      "source": [
        "**Asignación aumentada**: `+=`, `-=`, `*=`, `/=`, `//=`, `%=`"
      ],
      "metadata": {
        "id": "Pzvhiq2t0E_M"
      },
      "id": "Pzvhiq2t0E_M"
    },
    {
      "cell_type": "code",
      "source": [
        "n = 10\n",
        "n += 5\n",
        "n *= 2\n",
        "n"
      ],
      "metadata": {
        "colab": {
          "base_uri": "https://localhost:8080/"
        },
        "id": "UUv0w8yE0IPj",
        "outputId": "9718d48f-17b0-4083-de71-8e594f853aee"
      },
      "id": "UUv0w8yE0IPj",
      "execution_count": null,
      "outputs": [
        {
          "output_type": "execute_result",
          "data": {
            "text/plain": [
              "30"
            ]
          },
          "metadata": {},
          "execution_count": 23
        }
      ]
    },
    {
      "cell_type": "markdown",
      "source": [
        "**Pertenencia e identidad**\n",
        "- Pertenencia: `in`, `not in`\n",
        "- Identidad: `is`, `is not` (compara si son el **mismo objeto**, no solo igual en valor)\n"
      ],
      "metadata": {
        "id": "6cnRYPOQ0P01"
      },
      "id": "6cnRYPOQ0P01"
    },
    {
      "cell_type": "code",
      "source": [
        "texto = \"python\"\n",
        "'p' in texto, 'z' in texto, 'py' in texto\n"
      ],
      "metadata": {
        "colab": {
          "base_uri": "https://localhost:8080/"
        },
        "id": "ktqE0yxE0QlZ",
        "outputId": "16a48075-3892-419b-d5f3-45923fa216bd"
      },
      "id": "ktqE0yxE0QlZ",
      "execution_count": null,
      "outputs": [
        {
          "output_type": "execute_result",
          "data": {
            "text/plain": [
              "(True, False, True)"
            ]
          },
          "metadata": {},
          "execution_count": 31
        }
      ]
    },
    {
      "cell_type": "code",
      "source": [
        "a = [1,2,3] # Creamos una lista en memoria\n",
        "b = a # 'b' apunta a la MISMA lista que 'a'\n",
        "c = [1,2,3] # Creamos una NUEVA lista, con los mismos valores\n",
        "(b is a, c is a, c == a)\n",
        "\n",
        "\"\"\"\n",
        "Explicación del resultado\n",
        "\n",
        "b is a\n",
        "\n",
        "is comprueba si dos variables apuntan al mismo objeto en memoria.\n",
        "\n",
        "Como b = a, ambos apuntan al mismo objeto lista.\n",
        "\n",
        "Resultado: True.\n",
        "\n",
        "------------------------------------------------------------\n",
        "\n",
        "c is a\n",
        "\n",
        "Aunque c tiene los mismos valores que a, se creó con [1,2,3] como un objeto nuevo.\n",
        "\n",
        "Entonces c y a son objetos diferentes en memoria.\n",
        "\n",
        "Resultado: False.\n",
        "\n",
        "------------------------------------------------------------\n",
        "\n",
        "c == a\n",
        "\n",
        "== compara si los valores son iguales.\n",
        "\n",
        "Ambos contienen [1,2,3].\n",
        "\n",
        "Resultado: True.\n",
        "\n",
        "\n",
        "\"\"\""
      ],
      "metadata": {
        "colab": {
          "base_uri": "https://localhost:8080/"
        },
        "id": "0May205A1qrN",
        "outputId": "b4983f24-6a89-4572-a4a8-47cd30054009"
      },
      "id": "0May205A1qrN",
      "execution_count": null,
      "outputs": [
        {
          "output_type": "execute_result",
          "data": {
            "text/plain": [
              "(True, False, True)"
            ]
          },
          "metadata": {},
          "execution_count": 32
        }
      ]
    },
    {
      "cell_type": "markdown",
      "source": [
        "### Métodos y operaciones de strings\n",
        "\n",
        "Los strings (`str`) tienen muchos métodos útiles."
      ],
      "metadata": {
        "id": "pWDWZfyv0ndT"
      },
      "id": "pWDWZfyv0ndT"
    },
    {
      "cell_type": "code",
      "source": [
        "s = \"  Hola, Mundo!  \"\n",
        "s_upper = s.upper()       # Convierte a MAYÚSCULAS\n",
        "s_lower = s.lower()       # Convierte a minúsculas\n",
        "s_strip = s.strip()       # Elimina espacios al inicio y al final\n",
        "s_replaced = s.replace(\"Mundo\", \"Python\")  # Reemplaza texto\n",
        "s_split = s_strip.split(\",\")               # Separa en lista según el delimitador\n",
        "resultado = (s_upper, s_lower, s_strip, s_replaced, s_split)\n",
        "resultado"
      ],
      "metadata": {
        "colab": {
          "base_uri": "https://localhost:8080/"
        },
        "id": "kEl3D2P-0sKZ",
        "outputId": "c81471a4-58f0-443c-9071-94459a7f1555"
      },
      "id": "kEl3D2P-0sKZ",
      "execution_count": null,
      "outputs": [
        {
          "output_type": "execute_result",
          "data": {
            "text/plain": [
              "('  HOLA, MUNDO!  ',\n",
              " '  hola, mundo!  ',\n",
              " 'Hola, Mundo!',\n",
              " '  Hola, Python!  ',\n",
              " ['Hola', ' Mundo!'])"
            ]
          },
          "metadata": {},
          "execution_count": 26
        }
      ]
    },
    {
      "cell_type": "markdown",
      "source": [
        "**Búsqueda y prefijos/sufijos**"
      ],
      "metadata": {
        "id": "T_wB27SA1Hnl"
      },
      "id": "T_wB27SA1Hnl"
    },
    {
      "cell_type": "code",
      "source": [
        "s = \"programar en python es bacano\"\n",
        "(\"python\" in s,         # Comprueba si 'python' está dentro del string\n",
        " s.find(\"python\"),      # Devuelve índice de la primera ocurrencia (o -1 si no existe)\n",
        " s.startswith(\"pro\"),   # ¿Empieza con 'pro'?\n",
        " s.endswith(\"bacano\")) # ¿Termina en 'bacano'?"
      ],
      "metadata": {
        "colab": {
          "base_uri": "https://localhost:8080/"
        },
        "id": "cZpPwsaW1Iw-",
        "outputId": "11c31b4a-6bcc-48fb-f07c-5ee515bd2b56"
      },
      "id": "cZpPwsaW1Iw-",
      "execution_count": null,
      "outputs": [
        {
          "output_type": "execute_result",
          "data": {
            "text/plain": [
              "(True, 13, True, True)"
            ]
          },
          "metadata": {},
          "execution_count": 29
        }
      ]
    },
    {
      "cell_type": "markdown",
      "source": [
        "**Unir y partir (split/join)**"
      ],
      "metadata": {
        "id": "6ZfLdAeJ2c-y"
      },
      "id": "6ZfLdAeJ2c-y"
    },
    {
      "cell_type": "code",
      "source": [
        "palabras = [\"uno\", \"dos\", \"tres\"]\n",
        "\"-\".join(palabras)   # Une la lista con '-' como separador"
      ],
      "metadata": {
        "colab": {
          "base_uri": "https://localhost:8080/",
          "height": 36
        },
        "id": "715a3alC2iL5",
        "outputId": "bae315a7-d80c-4515-eae4-58c08edbbc41"
      },
      "id": "715a3alC2iL5",
      "execution_count": null,
      "outputs": [
        {
          "output_type": "execute_result",
          "data": {
            "text/plain": [
              "'uno-dos-tres'"
            ],
            "application/vnd.google.colaboratory.intrinsic+json": {
              "type": "string"
            }
          },
          "metadata": {},
          "execution_count": 33
        }
      ]
    },
    {
      "cell_type": "markdown",
      "source": [
        "**Formateo de strings** con *f-strings* y formato clásico:"
      ],
      "metadata": {
        "id": "3nMKR0SL2tbL"
      },
      "id": "3nMKR0SL2tbL"
    },
    {
      "cell_type": "code",
      "source": [
        "nombre = \"Juan\"\n",
        "edad = 36\n",
        "f\"Me llamo {nombre} y tengo {edad} años.\"  # f-string, interpolación de variables"
      ],
      "metadata": {
        "colab": {
          "base_uri": "https://localhost:8080/",
          "height": 36
        },
        "id": "oB6Wydq_2uSJ",
        "outputId": "bcc92471-0b5c-46cb-9de3-ba8784eda334"
      },
      "id": "oB6Wydq_2uSJ",
      "execution_count": null,
      "outputs": [
        {
          "output_type": "execute_result",
          "data": {
            "text/plain": [
              "'Me llamo Juan y tengo 36 años.'"
            ],
            "application/vnd.google.colaboratory.intrinsic+json": {
              "type": "string"
            }
          },
          "metadata": {},
          "execution_count": 35
        }
      ]
    },
    {
      "cell_type": "code",
      "source": [
        "pi = 3.1415926535\n",
        "\"pi = {:.3f}\".format(pi)  # Formato clásico, 3 decimales"
      ],
      "metadata": {
        "colab": {
          "base_uri": "https://localhost:8080/",
          "height": 36
        },
        "id": "R36LAHQl21pT",
        "outputId": "2a610a86-85e3-4bc5-ac7c-44aa6171662a"
      },
      "id": "R36LAHQl21pT",
      "execution_count": null,
      "outputs": [
        {
          "output_type": "execute_result",
          "data": {
            "text/plain": [
              "'pi = 3.142'"
            ],
            "application/vnd.google.colaboratory.intrinsic+json": {
              "type": "string"
            }
          },
          "metadata": {},
          "execution_count": 36
        }
      ]
    },
    {
      "cell_type": "markdown",
      "source": [
        "**Slicing con String (rebanado)**: `s[inicio:fin:paso]`"
      ],
      "metadata": {
        "id": "WbjWWvHq260q"
      },
      "id": "WbjWWvHq260q"
    },
    {
      "cell_type": "code",
      "source": [
        "t = \"abcdefg\"\n",
        "(t[0],      # primer carácter\n",
        " t[-1],     # último carácter\n",
        " t[1:4],    # desde índice 1 hasta 3\n",
        " t[::2],    # cada 2 caracteres\n",
        " t[::-1])   # invertido"
      ],
      "metadata": {
        "colab": {
          "base_uri": "https://localhost:8080/"
        },
        "id": "d-4tVdFF29eq",
        "outputId": "94bd17fa-88ed-4bb0-f2b5-e534ffe15076"
      },
      "id": "d-4tVdFF29eq",
      "execution_count": null,
      "outputs": [
        {
          "output_type": "execute_result",
          "data": {
            "text/plain": [
              "('a', 'g', 'bcd', 'aceg', 'gfedcba')"
            ]
          },
          "metadata": {},
          "execution_count": 37
        }
      ]
    },
    {
      "cell_type": "markdown",
      "source": [
        "### Condicionales (`if`, `elif`, `else`)"
      ],
      "metadata": {
        "id": "NQJD770e3IfP"
      },
      "id": "NQJD770e3IfP"
    },
    {
      "cell_type": "code",
      "source": [
        "x = 15\n",
        "if x % 2 == 0:\n",
        "    paridad = \"par\"\n",
        "else:\n",
        "    paridad = \"impar\"\n",
        "paridad"
      ],
      "metadata": {
        "colab": {
          "base_uri": "https://localhost:8080/",
          "height": 36
        },
        "id": "aokKXKiW3JQK",
        "outputId": "c7d56d44-ccaa-4671-ae84-61d14d0ae71d"
      },
      "id": "aokKXKiW3JQK",
      "execution_count": null,
      "outputs": [
        {
          "output_type": "execute_result",
          "data": {
            "text/plain": [
              "'impar'"
            ],
            "application/vnd.google.colaboratory.intrinsic+json": {
              "type": "string"
            }
          },
          "metadata": {},
          "execution_count": 38
        }
      ]
    },
    {
      "cell_type": "code",
      "source": [
        "# if / elif / else\n",
        "nota = 87\n",
        "if nota >= 90:\n",
        "    letra = \"A\"\n",
        "elif nota >= 80:\n",
        "    letra = \"B\"\n",
        "elif nota >= 70:\n",
        "    letra = \"C\"\n",
        "else:\n",
        "    letra = \"D\"\n",
        "\n",
        "print(letra)"
      ],
      "metadata": {
        "id": "qnvj9y4M3QCZ"
      },
      "id": "qnvj9y4M3QCZ",
      "execution_count": null,
      "outputs": []
    },
    {
      "cell_type": "markdown",
      "source": [
        "**Expresión condicional  If - else"
      ],
      "metadata": {
        "id": "WK0HYAVR3s2g"
      },
      "id": "WK0HYAVR3s2g"
    },
    {
      "cell_type": "code",
      "source": [
        "edad = int(input(\"Ingrese su edad: \"))\n",
        "\n",
        "if edad >= 18:\n",
        "  print(\"Usted es Mayor de Edad\")\n",
        "else:\n",
        "  print(\"Usted es menor de edad\")"
      ],
      "metadata": {
        "id": "5W9eevLX32ya"
      },
      "id": "5W9eevLX32ya",
      "execution_count": null,
      "outputs": []
    },
    {
      "cell_type": "markdown",
      "source": [
        "### Ciclos (`for`, `while`)\n",
        "\n",
        "\n",
        "Los bucles permiten repetir acciones."
      ],
      "metadata": {
        "id": "bwCile_W4GsL"
      },
      "id": "bwCile_W4GsL"
    },
    {
      "cell_type": "code",
      "source": [
        "#Ciclo For\n",
        "nombres = [\"Ana\", \"Luis\", \"María\"]\n",
        "for nombre in nombres:  #Nombre es la variable contador\n",
        "    print(nombre)"
      ],
      "metadata": {
        "colab": {
          "base_uri": "https://localhost:8080/"
        },
        "id": "l1kVhsUU4viH",
        "outputId": "50e09e7e-a9d9-47b5-e560-556f1815d960"
      },
      "id": "l1kVhsUU4viH",
      "execution_count": null,
      "outputs": [
        {
          "output_type": "stream",
          "name": "stdout",
          "text": [
            "Ana\n",
            "Luis\n",
            "María\n"
          ]
        }
      ]
    },
    {
      "cell_type": "code",
      "source": [
        "#ciclo for con range\n",
        "for i in range(1, 6):   # 1 hasta 5\n",
        "    print(i)"
      ],
      "metadata": {
        "id": "sx3fo6rm44ne"
      },
      "id": "sx3fo6rm44ne",
      "execution_count": null,
      "outputs": []
    },
    {
      "cell_type": "code",
      "source": [
        "# while con break/continue\n",
        "n = 0\n",
        "suma = 0\n",
        "while True:\n",
        "    n += 1\n",
        "    if n % 2 == 0:\n",
        "        continue  # salta los pares\n",
        "    suma += n\n",
        "    if n > 9:\n",
        "        break     # sale del bucle\n",
        "suma"
      ],
      "metadata": {
        "colab": {
          "base_uri": "https://localhost:8080/"
        },
        "id": "AFTdBYhf4UqP",
        "outputId": "66fe4186-20d3-4a8e-ed24-b4923a0ad272"
      },
      "id": "AFTdBYhf4UqP",
      "execution_count": null,
      "outputs": [
        {
          "output_type": "execute_result",
          "data": {
            "text/plain": [
              "36"
            ]
          },
          "metadata": {},
          "execution_count": 44
        }
      ]
    },
    {
      "cell_type": "code",
      "source": [
        "#Ciclo While\n",
        "n = 1\n",
        "while n <= 5:          # Mientras n sea menor o igual a 5\n",
        "    print(n)           # imprime n\n",
        "    n += 1             # incrementa n"
      ],
      "metadata": {
        "id": "_l7Juk-O4cSy"
      },
      "id": "_l7Juk-O4cSy",
      "execution_count": null,
      "outputs": []
    },
    {
      "cell_type": "markdown",
      "id": "188e4b81",
      "metadata": {
        "id": "188e4b81"
      },
      "source": [
        "## 1) Listas\n",
        "\n",
        "Una **lista** es una colección **mutable** y **ordenada** de elementos. Se definen con `[]`.\n",
        "- Pueden contener elementos de **distintos tipos**.\n",
        "- Se pueden **modificar** (agregar, quitar, reemplazar).\n",
        "- Soportan **indexación** y **rebanado (slicing)**.\n",
        "\n",
        "**Operaciones y métodos comunes:**\n",
        "- Indexación: `mi_lista[0]`, `mi_lista[-1]`\n",
        "- Slicing: `mi_lista[1:4]`, `mi_lista[::2]`\n",
        "- Agregar: `.append(x)`, `.extend(iterable)`, `.insert(i, x)`\n",
        "- Eliminar: `.pop(i)`, `.remove(x)`, `del mi_lista[i:j]`\n",
        "- Otras: `.sort()`, `sorted(mi_lista)`, `.reverse()`, `len(mi_lista)`\n"
      ]
    },
    {
      "cell_type": "code",
      "execution_count": null,
      "id": "0fe1ca5d",
      "metadata": {
        "id": "0fe1ca5d"
      },
      "outputs": [],
      "source": [
        "# EJEMPLO (Listas)\n",
        "numeros = [10, 3, 7, 1, 9]\n",
        "print(\"Original:\", numeros)\n",
        "\n",
        "# Indexación y slicing\n",
        "print(\"Primero:\", numeros[0])\n",
        "print(\"Último:\", numeros[-1])\n",
        "print(\"Slicing 1:4:\", numeros[1:4])\n",
        "\n",
        "# Agregar y eliminar\n",
        "numeros.append(5)\n",
        "numeros.remove(3)\n",
        "print(\"Modificada:\", numeros)\n",
        "\n",
        "# Ordenar (sin modificar original)\n",
        "ordenada = sorted(numeros)\n",
        "print(\"Ordenada (copia):\", ordenada)\n",
        "\n",
        "# Ordenar in-place (modifica la lista)\n",
        "numeros.sort()\n",
        "print(\"Ordenada in-place:\", numeros)"
      ]
    },
    {
      "cell_type": "code",
      "execution_count": null,
      "id": "69d38220",
      "metadata": {
        "id": "69d38220"
      },
      "outputs": [],
      "source": [
        "# EJERCICIO (Listas)\n",
        "# 1. Crea una lista llamada 'temperaturas' con al menos 7 valores numéricos (pueden repetirse).\n",
        "# 2. Imprime: el primer valor, los 3 últimos, y cada 2 elementos (usando slicing).\n",
        "# 3. Agrega una nueva temperatura y elimina una existente por valor.\n",
        "# 4. Ordena la lista de menor a mayor y guarda el resultado en 'ordenadas' sin modificar la original.\n",
        "# 5. Calcula el promedio de 'ordenadas'.\n",
        "\n",
        "# Escribe tu solución aquí:\n",
        "temperaturas = []  # <- rellena\n"
      ]
    },
    {
      "cell_type": "code",
      "execution_count": null,
      "id": "82fd2e20",
      "metadata": {
        "id": "82fd2e20"
      },
      "outputs": [],
      "source": [
        "# EJERCICIO EXTRA (Listas)\n",
        "# Dada la lista de palabras, realiza:\n",
        "# 1) Crea una nueva lista 'longitudes' con la longitud de cada palabra.\n",
        "# 2) Elimina duplicados de 'palabras' **preservando el orden** y guárdala en 'sin_duplicados'.\n",
        "# 3) Encuentra la palabra más larga (si hay empate, quédate con la primera).\n",
        "# 4) (Opcional) Crea una comprensión de listas que convierta a mayúsculas las palabras con longitud > 4.\n",
        "\n",
        "palabras = [\"sol\", \"luna\", \"estrella\", \"sol\", \"cometa\", \"luna\", \"planeta\"]\n",
        "\n",
        "# Escribe tu solución aquí:\n"
      ]
    },
    {
      "cell_type": "markdown",
      "id": "cd908859",
      "metadata": {
        "id": "cd908859"
      },
      "source": [
        "## 2) Tuplas\n",
        "\n",
        "Una **tupla** es una colección **inmutable** y **ordenada**. Se definen con `()`.\n",
        "- No se pueden **modificar** después de creadas (no `.append`, no `.remove`).\n",
        "- Útiles para **datos fijos** o para usar como **claves** en diccionarios (si todos sus elementos son inmutables).\n",
        "\n",
        "**Operaciones comunes:**\n",
        "- Indexación y slicing como en listas.\n",
        "- Desempaquetado: `a, b = (1, 2)`\n",
        "- Métodos: `.count(x)` y `.index(x)`\n"
      ]
    },
    {
      "cell_type": "code",
      "execution_count": null,
      "id": "f32a6d2a",
      "metadata": {
        "id": "f32a6d2a"
      },
      "outputs": [],
      "source": [
        "# EJEMPLO (Tuplas)\n",
        "coordenada = (12.5, -3.7)\n",
        "x, y = coordenada  # desempaquetado\n",
        "print(\"x:\", x, \" y:\", y)\n",
        "\n",
        "colores = (\"rojo\", \"verde\", \"azul\", \"rojo\")\n",
        "print(\"Count 'rojo':\", colores.count(\"rojo\"))\n",
        "print(\"Index 'azul':\", colores.index(\"azul\"))"
      ]
    },
    {
      "cell_type": "code",
      "execution_count": null,
      "id": "a2e57b17",
      "metadata": {
        "id": "a2e57b17"
      },
      "outputs": [],
      "source": [
        "# EJERCICIO (Tuplas)\n",
        "# 1. Crea una tupla 'producto' con: nombre (str), precio (float), en_stock (bool).\n",
        "# 2. Desempaqueta la tupla en variables y muestra un resumen legible.\n",
        "# 3. Crea otra tupla 'dimensiones' (ancho, alto, largo) y muestra solo 'alto'.\n",
        "\n",
        "# Escribe tu solución aquí:\n",
        "producto = ()  # <- rellena\n"
      ]
    },
    {
      "cell_type": "code",
      "execution_count": null,
      "id": "486fd9e2",
      "metadata": {
        "id": "486fd9e2"
      },
      "outputs": [],
      "source": [
        "# EJERCICIO EXTRA (Tuplas)\n",
        "# Dada una lista de tuplas (nombre, edad):\n",
        "# 1) Desempaqueta en dos listas: 'nombres' y 'edades'.\n",
        "# 2) Crea una nueva tupla 'edades_siguiente_anio' con cada edad + 1 (usa comprensión/expresión de generador).\n",
        "# 3) Cuenta cuántas personas son mayores o iguales a 18 años.\n",
        "# 4) (Opcional) Obtén (min_edad, max_edad) usando solo la tupla de edades.\n",
        "\n",
        "personas = [(\"Ana\", 17), (\"Luis\", 21), (\"Marta\", 19), (\"Pedro\", 16), (\"Lucía\", 22)]\n",
        "\n",
        "# Escribe tu solución aquí:\n"
      ]
    },
    {
      "cell_type": "markdown",
      "id": "7174858c",
      "metadata": {
        "id": "7174858c"
      },
      "source": [
        "## 3) Diccionarios\n",
        "\n",
        "Un **diccionario** mapea **claves** a **valores**. Se define con `{clave: valor}`.\n",
        "- Las **claves** deben ser **hashables** (strings, números, tuplas inmutables, etc.).\n",
        "- Permiten acceso por clave: `d[\"clave\"]`\n",
        "- Métodos útiles: `.get(k, por_defecto)`, `.keys()`, `.values()`, `.items()`, `.update(...)`, `.pop(k)`, `in`\n",
        "\n",
        "**Patrones comunes:**\n",
        "- Contar frecuencias.\n",
        "- Transformar estructuras.\n",
        "- Agrupar datos.\n"
      ]
    },
    {
      "cell_type": "code",
      "execution_count": null,
      "id": "bd7bc99e",
      "metadata": {
        "id": "bd7bc99e"
      },
      "outputs": [],
      "source": [
        "# EJEMPLO (Diccionarios)\n",
        "persona = {\n",
        "    \"nombre\": \"Ana\",\n",
        "    \"edad\": 28,\n",
        "    \"ciudad\": \"Sevilla\",\n",
        "}\n",
        "print(\"Nombre:\", persona[\"nombre\"])\n",
        "print(\"Edad (get):\", persona.get(\"edad\", \"desconocida\"))\n",
        "\n",
        "# Agregar/modificar\n",
        "persona[\"profesion\"] = \"Ingeniera\"\n",
        "persona.update({\"edad\": 29})\n",
        "\n",
        "# Recorrer\n",
        "for k, v in persona.items():\n",
        "    print(f\"{k} -> {v}\")\n",
        "\n",
        "# Contar frecuencias de letras\n",
        "texto = \"manzana\"\n",
        "freq = {}\n",
        "for ch in texto:\n",
        "    freq[ch] = freq.get(ch, 0) + 1\n",
        "print(\"Frecuencias:\", freq)"
      ]
    },
    {
      "cell_type": "code",
      "execution_count": null,
      "id": "df270a84",
      "metadata": {
        "id": "df270a84"
      },
      "outputs": [],
      "source": [
        "# EJERCICIO (Diccionarios)\n",
        "# Dado el siguiente listado de ventas por día, construye un diccionario de totales por producto.\n",
        "ventas = [\n",
        "    {\"producto\": \"A\", \"unidades\": 3, \"precio\": 10.0},\n",
        "    {\"producto\": \"B\", \"unidades\": 1, \"precio\": 8.5},\n",
        "    {\"producto\": \"A\", \"unidades\": 2, \"precio\": 10.0},\n",
        "    {\"producto\": \"C\", \"unidades\": 5, \"precio\": 4.2},\n",
        "    {\"producto\": \"B\", \"unidades\": 4, \"precio\": 8.5},\n",
        "]\n",
        "\n",
        "# 1. Crea un diccionario 'totales' donde la clave sea el producto y el valor el ingreso total (unidades*precio).\n",
        "# 2. Imprime el producto con mayor ingreso.\n",
        "# 3. (Opcional) Crea otro diccionario con unidades totales por producto.\n",
        "\n",
        "# Escribe tu solución aquí:\n",
        "totales = {}  # <- rellena\n"
      ]
    },
    {
      "cell_type": "code",
      "execution_count": null,
      "id": "e85867cc",
      "metadata": {
        "id": "e85867cc"
      },
      "outputs": [],
      "source": [
        "# EJERCICIO EXTRA (Diccionarios)\n",
        "# 1) Normaliza el texto a minúsculas y elimina signos simples (, . ; : ! ?).\n",
        "# 2) Construye un diccionario 'freq_palabras' con la frecuencia de cada palabra.\n",
        "# 3) Muestra el TOP 3 de palabras más frecuentes (palabra, cuenta).\n",
        "# 4) (Opcional) Invierte un diccionario simple producto->precio en otro precio->[productos].\n",
        "\n",
        "texto = \"¡Manzana, pera; manzana! Uva pera. Manzana: uva, pera.\"\n",
        "productos_precios = {\"A\": 10, \"B\": 8.5, \"C\": 10, \"D\": 4.2}\n",
        "\n",
        "# Escribe tu solución aquí:\n"
      ]
    },
    {
      "cell_type": "markdown",
      "id": "0b940c4e",
      "metadata": {
        "id": "0b940c4e"
      },
      "source": [
        "## 4) Pandas\n",
        "\n",
        "**Pandas** es una librería para análisis de datos que ofrece estructuras como:\n",
        "- `Series`: una secuencia etiquetada unidimensional.\n",
        "- `DataFrame`: una tabla de datos con filas y columnas.\n",
        "\n",
        "**Operaciones esenciales con DataFrames:**\n",
        "- Crear un DataFrame a partir de listas/dicts/CSV.\n",
        "- Seleccionar columnas: `df[\"col\"]`, `df[[\"col1\",\"col2\"]]`\n",
        "- Filtrar filas: `df[df[\"col\"] > 0]`\n",
        "- Añadir columnas: `df[\"nueva\"] = ...`\n",
        "- Agrupar y agregar: `df.groupby(\"col\").agg(...)`\n",
        "- Describir datos: `df.describe()`\n",
        "\n",
        "**Formas de mostrar resultado:**\n",
        "- print() convierte lo que recibe a texto plano y lo envía a la salida estándar.\n",
        "\n",
        "- display() muestra el objeto en su forma representativa más adecuada (HTML, imagen, tabla, etc.), dependiendo de su tipo.\n"
      ]
    },
    {
      "cell_type": "code",
      "execution_count": null,
      "id": "ef8d611c",
      "metadata": {
        "colab": {
          "base_uri": "https://localhost:8080/",
          "height": 653
        },
        "id": "ef8d611c",
        "outputId": "a9c65696-860a-4c95-ab75-97114d1a8020"
      },
      "outputs": [
        {
          "output_type": "display_data",
          "data": {
            "text/plain": [
              "  producto  unidades  precio\n",
              "0        A         3    10.0\n",
              "1        B         1     8.5\n",
              "2        A         2    10.0\n",
              "3        C         5     4.2\n",
              "4        B         4     8.5"
            ],
            "text/html": [
              "\n",
              "  <div id=\"df-67b92e9f-6df2-4d54-a92f-e22b4d512810\" class=\"colab-df-container\">\n",
              "    <div>\n",
              "<style scoped>\n",
              "    .dataframe tbody tr th:only-of-type {\n",
              "        vertical-align: middle;\n",
              "    }\n",
              "\n",
              "    .dataframe tbody tr th {\n",
              "        vertical-align: top;\n",
              "    }\n",
              "\n",
              "    .dataframe thead th {\n",
              "        text-align: right;\n",
              "    }\n",
              "</style>\n",
              "<table border=\"1\" class=\"dataframe\">\n",
              "  <thead>\n",
              "    <tr style=\"text-align: right;\">\n",
              "      <th></th>\n",
              "      <th>producto</th>\n",
              "      <th>unidades</th>\n",
              "      <th>precio</th>\n",
              "    </tr>\n",
              "  </thead>\n",
              "  <tbody>\n",
              "    <tr>\n",
              "      <th>0</th>\n",
              "      <td>A</td>\n",
              "      <td>3</td>\n",
              "      <td>10.0</td>\n",
              "    </tr>\n",
              "    <tr>\n",
              "      <th>1</th>\n",
              "      <td>B</td>\n",
              "      <td>1</td>\n",
              "      <td>8.5</td>\n",
              "    </tr>\n",
              "    <tr>\n",
              "      <th>2</th>\n",
              "      <td>A</td>\n",
              "      <td>2</td>\n",
              "      <td>10.0</td>\n",
              "    </tr>\n",
              "    <tr>\n",
              "      <th>3</th>\n",
              "      <td>C</td>\n",
              "      <td>5</td>\n",
              "      <td>4.2</td>\n",
              "    </tr>\n",
              "    <tr>\n",
              "      <th>4</th>\n",
              "      <td>B</td>\n",
              "      <td>4</td>\n",
              "      <td>8.5</td>\n",
              "    </tr>\n",
              "  </tbody>\n",
              "</table>\n",
              "</div>\n",
              "    <div class=\"colab-df-buttons\">\n",
              "\n",
              "  <div class=\"colab-df-container\">\n",
              "    <button class=\"colab-df-convert\" onclick=\"convertToInteractive('df-67b92e9f-6df2-4d54-a92f-e22b4d512810')\"\n",
              "            title=\"Convert this dataframe to an interactive table.\"\n",
              "            style=\"display:none;\">\n",
              "\n",
              "  <svg xmlns=\"http://www.w3.org/2000/svg\" height=\"24px\" viewBox=\"0 -960 960 960\">\n",
              "    <path d=\"M120-120v-720h720v720H120Zm60-500h600v-160H180v160Zm220 220h160v-160H400v160Zm0 220h160v-160H400v160ZM180-400h160v-160H180v160Zm440 0h160v-160H620v160ZM180-180h160v-160H180v160Zm440 0h160v-160H620v160Z\"/>\n",
              "  </svg>\n",
              "    </button>\n",
              "\n",
              "  <style>\n",
              "    .colab-df-container {\n",
              "      display:flex;\n",
              "      gap: 12px;\n",
              "    }\n",
              "\n",
              "    .colab-df-convert {\n",
              "      background-color: #E8F0FE;\n",
              "      border: none;\n",
              "      border-radius: 50%;\n",
              "      cursor: pointer;\n",
              "      display: none;\n",
              "      fill: #1967D2;\n",
              "      height: 32px;\n",
              "      padding: 0 0 0 0;\n",
              "      width: 32px;\n",
              "    }\n",
              "\n",
              "    .colab-df-convert:hover {\n",
              "      background-color: #E2EBFA;\n",
              "      box-shadow: 0px 1px 2px rgba(60, 64, 67, 0.3), 0px 1px 3px 1px rgba(60, 64, 67, 0.15);\n",
              "      fill: #174EA6;\n",
              "    }\n",
              "\n",
              "    .colab-df-buttons div {\n",
              "      margin-bottom: 4px;\n",
              "    }\n",
              "\n",
              "    [theme=dark] .colab-df-convert {\n",
              "      background-color: #3B4455;\n",
              "      fill: #D2E3FC;\n",
              "    }\n",
              "\n",
              "    [theme=dark] .colab-df-convert:hover {\n",
              "      background-color: #434B5C;\n",
              "      box-shadow: 0px 1px 3px 1px rgba(0, 0, 0, 0.15);\n",
              "      filter: drop-shadow(0px 1px 2px rgba(0, 0, 0, 0.3));\n",
              "      fill: #FFFFFF;\n",
              "    }\n",
              "  </style>\n",
              "\n",
              "    <script>\n",
              "      const buttonEl =\n",
              "        document.querySelector('#df-67b92e9f-6df2-4d54-a92f-e22b4d512810 button.colab-df-convert');\n",
              "      buttonEl.style.display =\n",
              "        google.colab.kernel.accessAllowed ? 'block' : 'none';\n",
              "\n",
              "      async function convertToInteractive(key) {\n",
              "        const element = document.querySelector('#df-67b92e9f-6df2-4d54-a92f-e22b4d512810');\n",
              "        const dataTable =\n",
              "          await google.colab.kernel.invokeFunction('convertToInteractive',\n",
              "                                                    [key], {});\n",
              "        if (!dataTable) return;\n",
              "\n",
              "        const docLinkHtml = 'Like what you see? Visit the ' +\n",
              "          '<a target=\"_blank\" href=https://colab.research.google.com/notebooks/data_table.ipynb>data table notebook</a>'\n",
              "          + ' to learn more about interactive tables.';\n",
              "        element.innerHTML = '';\n",
              "        dataTable['output_type'] = 'display_data';\n",
              "        await google.colab.output.renderOutput(dataTable, element);\n",
              "        const docLink = document.createElement('div');\n",
              "        docLink.innerHTML = docLinkHtml;\n",
              "        element.appendChild(docLink);\n",
              "      }\n",
              "    </script>\n",
              "  </div>\n",
              "\n",
              "\n",
              "    <div id=\"df-cb94aa94-67d7-45ce-b835-9bb2b7ea31bd\">\n",
              "      <button class=\"colab-df-quickchart\" onclick=\"quickchart('df-cb94aa94-67d7-45ce-b835-9bb2b7ea31bd')\"\n",
              "                title=\"Suggest charts\"\n",
              "                style=\"display:none;\">\n",
              "\n",
              "<svg xmlns=\"http://www.w3.org/2000/svg\" height=\"24px\"viewBox=\"0 0 24 24\"\n",
              "     width=\"24px\">\n",
              "    <g>\n",
              "        <path d=\"M19 3H5c-1.1 0-2 .9-2 2v14c0 1.1.9 2 2 2h14c1.1 0 2-.9 2-2V5c0-1.1-.9-2-2-2zM9 17H7v-7h2v7zm4 0h-2V7h2v10zm4 0h-2v-4h2v4z\"/>\n",
              "    </g>\n",
              "</svg>\n",
              "      </button>\n",
              "\n",
              "<style>\n",
              "  .colab-df-quickchart {\n",
              "      --bg-color: #E8F0FE;\n",
              "      --fill-color: #1967D2;\n",
              "      --hover-bg-color: #E2EBFA;\n",
              "      --hover-fill-color: #174EA6;\n",
              "      --disabled-fill-color: #AAA;\n",
              "      --disabled-bg-color: #DDD;\n",
              "  }\n",
              "\n",
              "  [theme=dark] .colab-df-quickchart {\n",
              "      --bg-color: #3B4455;\n",
              "      --fill-color: #D2E3FC;\n",
              "      --hover-bg-color: #434B5C;\n",
              "      --hover-fill-color: #FFFFFF;\n",
              "      --disabled-bg-color: #3B4455;\n",
              "      --disabled-fill-color: #666;\n",
              "  }\n",
              "\n",
              "  .colab-df-quickchart {\n",
              "    background-color: var(--bg-color);\n",
              "    border: none;\n",
              "    border-radius: 50%;\n",
              "    cursor: pointer;\n",
              "    display: none;\n",
              "    fill: var(--fill-color);\n",
              "    height: 32px;\n",
              "    padding: 0;\n",
              "    width: 32px;\n",
              "  }\n",
              "\n",
              "  .colab-df-quickchart:hover {\n",
              "    background-color: var(--hover-bg-color);\n",
              "    box-shadow: 0 1px 2px rgba(60, 64, 67, 0.3), 0 1px 3px 1px rgba(60, 64, 67, 0.15);\n",
              "    fill: var(--button-hover-fill-color);\n",
              "  }\n",
              "\n",
              "  .colab-df-quickchart-complete:disabled,\n",
              "  .colab-df-quickchart-complete:disabled:hover {\n",
              "    background-color: var(--disabled-bg-color);\n",
              "    fill: var(--disabled-fill-color);\n",
              "    box-shadow: none;\n",
              "  }\n",
              "\n",
              "  .colab-df-spinner {\n",
              "    border: 2px solid var(--fill-color);\n",
              "    border-color: transparent;\n",
              "    border-bottom-color: var(--fill-color);\n",
              "    animation:\n",
              "      spin 1s steps(1) infinite;\n",
              "  }\n",
              "\n",
              "  @keyframes spin {\n",
              "    0% {\n",
              "      border-color: transparent;\n",
              "      border-bottom-color: var(--fill-color);\n",
              "      border-left-color: var(--fill-color);\n",
              "    }\n",
              "    20% {\n",
              "      border-color: transparent;\n",
              "      border-left-color: var(--fill-color);\n",
              "      border-top-color: var(--fill-color);\n",
              "    }\n",
              "    30% {\n",
              "      border-color: transparent;\n",
              "      border-left-color: var(--fill-color);\n",
              "      border-top-color: var(--fill-color);\n",
              "      border-right-color: var(--fill-color);\n",
              "    }\n",
              "    40% {\n",
              "      border-color: transparent;\n",
              "      border-right-color: var(--fill-color);\n",
              "      border-top-color: var(--fill-color);\n",
              "    }\n",
              "    60% {\n",
              "      border-color: transparent;\n",
              "      border-right-color: var(--fill-color);\n",
              "    }\n",
              "    80% {\n",
              "      border-color: transparent;\n",
              "      border-right-color: var(--fill-color);\n",
              "      border-bottom-color: var(--fill-color);\n",
              "    }\n",
              "    90% {\n",
              "      border-color: transparent;\n",
              "      border-bottom-color: var(--fill-color);\n",
              "    }\n",
              "  }\n",
              "</style>\n",
              "\n",
              "      <script>\n",
              "        async function quickchart(key) {\n",
              "          const quickchartButtonEl =\n",
              "            document.querySelector('#' + key + ' button');\n",
              "          quickchartButtonEl.disabled = true;  // To prevent multiple clicks.\n",
              "          quickchartButtonEl.classList.add('colab-df-spinner');\n",
              "          try {\n",
              "            const charts = await google.colab.kernel.invokeFunction(\n",
              "                'suggestCharts', [key], {});\n",
              "          } catch (error) {\n",
              "            console.error('Error during call to suggestCharts:', error);\n",
              "          }\n",
              "          quickchartButtonEl.classList.remove('colab-df-spinner');\n",
              "          quickchartButtonEl.classList.add('colab-df-quickchart-complete');\n",
              "        }\n",
              "        (() => {\n",
              "          let quickchartButtonEl =\n",
              "            document.querySelector('#df-cb94aa94-67d7-45ce-b835-9bb2b7ea31bd button');\n",
              "          quickchartButtonEl.style.display =\n",
              "            google.colab.kernel.accessAllowed ? 'block' : 'none';\n",
              "        })();\n",
              "      </script>\n",
              "    </div>\n",
              "\n",
              "    </div>\n",
              "  </div>\n"
            ],
            "application/vnd.google.colaboratory.intrinsic+json": {
              "type": "dataframe",
              "summary": "{\n  \"name\": \"print(df\",\n  \"rows\": 5,\n  \"fields\": [\n    {\n      \"column\": \"producto\",\n      \"properties\": {\n        \"dtype\": \"string\",\n        \"num_unique_values\": 3,\n        \"samples\": [\n          \"A\",\n          \"B\",\n          \"C\"\n        ],\n        \"semantic_type\": \"\",\n        \"description\": \"\"\n      }\n    },\n    {\n      \"column\": \"unidades\",\n      \"properties\": {\n        \"dtype\": \"number\",\n        \"std\": 1,\n        \"min\": 1,\n        \"max\": 5,\n        \"num_unique_values\": 5,\n        \"samples\": [\n          1,\n          4,\n          2\n        ],\n        \"semantic_type\": \"\",\n        \"description\": \"\"\n      }\n    },\n    {\n      \"column\": \"precio\",\n      \"properties\": {\n        \"dtype\": \"number\",\n        \"std\": 2.3797058641773354,\n        \"min\": 4.2,\n        \"max\": 10.0,\n        \"num_unique_values\": 3,\n        \"samples\": [\n          10.0,\n          8.5,\n          4.2\n        ],\n        \"semantic_type\": \"\",\n        \"description\": \"\"\n      }\n    }\n  ]\n}"
            }
          },
          "metadata": {}
        },
        {
          "output_type": "display_data",
          "data": {
            "text/plain": [
              "  producto  unidades  precio  ingreso\n",
              "0        A         3    10.0     30.0\n",
              "3        C         5     4.2     21.0\n",
              "4        B         4     8.5     34.0\n",
              "5        A         6    10.0     60.0"
            ],
            "text/html": [
              "\n",
              "  <div id=\"df-73f4e154-7871-4cca-909a-9de13efeea3d\" class=\"colab-df-container\">\n",
              "    <div>\n",
              "<style scoped>\n",
              "    .dataframe tbody tr th:only-of-type {\n",
              "        vertical-align: middle;\n",
              "    }\n",
              "\n",
              "    .dataframe tbody tr th {\n",
              "        vertical-align: top;\n",
              "    }\n",
              "\n",
              "    .dataframe thead th {\n",
              "        text-align: right;\n",
              "    }\n",
              "</style>\n",
              "<table border=\"1\" class=\"dataframe\">\n",
              "  <thead>\n",
              "    <tr style=\"text-align: right;\">\n",
              "      <th></th>\n",
              "      <th>producto</th>\n",
              "      <th>unidades</th>\n",
              "      <th>precio</th>\n",
              "      <th>ingreso</th>\n",
              "    </tr>\n",
              "  </thead>\n",
              "  <tbody>\n",
              "    <tr>\n",
              "      <th>0</th>\n",
              "      <td>A</td>\n",
              "      <td>3</td>\n",
              "      <td>10.0</td>\n",
              "      <td>30.0</td>\n",
              "    </tr>\n",
              "    <tr>\n",
              "      <th>3</th>\n",
              "      <td>C</td>\n",
              "      <td>5</td>\n",
              "      <td>4.2</td>\n",
              "      <td>21.0</td>\n",
              "    </tr>\n",
              "    <tr>\n",
              "      <th>4</th>\n",
              "      <td>B</td>\n",
              "      <td>4</td>\n",
              "      <td>8.5</td>\n",
              "      <td>34.0</td>\n",
              "    </tr>\n",
              "    <tr>\n",
              "      <th>5</th>\n",
              "      <td>A</td>\n",
              "      <td>6</td>\n",
              "      <td>10.0</td>\n",
              "      <td>60.0</td>\n",
              "    </tr>\n",
              "  </tbody>\n",
              "</table>\n",
              "</div>\n",
              "    <div class=\"colab-df-buttons\">\n",
              "\n",
              "  <div class=\"colab-df-container\">\n",
              "    <button class=\"colab-df-convert\" onclick=\"convertToInteractive('df-73f4e154-7871-4cca-909a-9de13efeea3d')\"\n",
              "            title=\"Convert this dataframe to an interactive table.\"\n",
              "            style=\"display:none;\">\n",
              "\n",
              "  <svg xmlns=\"http://www.w3.org/2000/svg\" height=\"24px\" viewBox=\"0 -960 960 960\">\n",
              "    <path d=\"M120-120v-720h720v720H120Zm60-500h600v-160H180v160Zm220 220h160v-160H400v160Zm0 220h160v-160H400v160ZM180-400h160v-160H180v160Zm440 0h160v-160H620v160ZM180-180h160v-160H180v160Zm440 0h160v-160H620v160Z\"/>\n",
              "  </svg>\n",
              "    </button>\n",
              "\n",
              "  <style>\n",
              "    .colab-df-container {\n",
              "      display:flex;\n",
              "      gap: 12px;\n",
              "    }\n",
              "\n",
              "    .colab-df-convert {\n",
              "      background-color: #E8F0FE;\n",
              "      border: none;\n",
              "      border-radius: 50%;\n",
              "      cursor: pointer;\n",
              "      display: none;\n",
              "      fill: #1967D2;\n",
              "      height: 32px;\n",
              "      padding: 0 0 0 0;\n",
              "      width: 32px;\n",
              "    }\n",
              "\n",
              "    .colab-df-convert:hover {\n",
              "      background-color: #E2EBFA;\n",
              "      box-shadow: 0px 1px 2px rgba(60, 64, 67, 0.3), 0px 1px 3px 1px rgba(60, 64, 67, 0.15);\n",
              "      fill: #174EA6;\n",
              "    }\n",
              "\n",
              "    .colab-df-buttons div {\n",
              "      margin-bottom: 4px;\n",
              "    }\n",
              "\n",
              "    [theme=dark] .colab-df-convert {\n",
              "      background-color: #3B4455;\n",
              "      fill: #D2E3FC;\n",
              "    }\n",
              "\n",
              "    [theme=dark] .colab-df-convert:hover {\n",
              "      background-color: #434B5C;\n",
              "      box-shadow: 0px 1px 3px 1px rgba(0, 0, 0, 0.15);\n",
              "      filter: drop-shadow(0px 1px 2px rgba(0, 0, 0, 0.3));\n",
              "      fill: #FFFFFF;\n",
              "    }\n",
              "  </style>\n",
              "\n",
              "    <script>\n",
              "      const buttonEl =\n",
              "        document.querySelector('#df-73f4e154-7871-4cca-909a-9de13efeea3d button.colab-df-convert');\n",
              "      buttonEl.style.display =\n",
              "        google.colab.kernel.accessAllowed ? 'block' : 'none';\n",
              "\n",
              "      async function convertToInteractive(key) {\n",
              "        const element = document.querySelector('#df-73f4e154-7871-4cca-909a-9de13efeea3d');\n",
              "        const dataTable =\n",
              "          await google.colab.kernel.invokeFunction('convertToInteractive',\n",
              "                                                    [key], {});\n",
              "        if (!dataTable) return;\n",
              "\n",
              "        const docLinkHtml = 'Like what you see? Visit the ' +\n",
              "          '<a target=\"_blank\" href=https://colab.research.google.com/notebooks/data_table.ipynb>data table notebook</a>'\n",
              "          + ' to learn more about interactive tables.';\n",
              "        element.innerHTML = '';\n",
              "        dataTable['output_type'] = 'display_data';\n",
              "        await google.colab.output.renderOutput(dataTable, element);\n",
              "        const docLink = document.createElement('div');\n",
              "        docLink.innerHTML = docLinkHtml;\n",
              "        element.appendChild(docLink);\n",
              "      }\n",
              "    </script>\n",
              "  </div>\n",
              "\n",
              "\n",
              "    <div id=\"df-e2cd2d7b-89c6-4f78-816e-d79a7e637536\">\n",
              "      <button class=\"colab-df-quickchart\" onclick=\"quickchart('df-e2cd2d7b-89c6-4f78-816e-d79a7e637536')\"\n",
              "                title=\"Suggest charts\"\n",
              "                style=\"display:none;\">\n",
              "\n",
              "<svg xmlns=\"http://www.w3.org/2000/svg\" height=\"24px\"viewBox=\"0 0 24 24\"\n",
              "     width=\"24px\">\n",
              "    <g>\n",
              "        <path d=\"M19 3H5c-1.1 0-2 .9-2 2v14c0 1.1.9 2 2 2h14c1.1 0 2-.9 2-2V5c0-1.1-.9-2-2-2zM9 17H7v-7h2v7zm4 0h-2V7h2v10zm4 0h-2v-4h2v4z\"/>\n",
              "    </g>\n",
              "</svg>\n",
              "      </button>\n",
              "\n",
              "<style>\n",
              "  .colab-df-quickchart {\n",
              "      --bg-color: #E8F0FE;\n",
              "      --fill-color: #1967D2;\n",
              "      --hover-bg-color: #E2EBFA;\n",
              "      --hover-fill-color: #174EA6;\n",
              "      --disabled-fill-color: #AAA;\n",
              "      --disabled-bg-color: #DDD;\n",
              "  }\n",
              "\n",
              "  [theme=dark] .colab-df-quickchart {\n",
              "      --bg-color: #3B4455;\n",
              "      --fill-color: #D2E3FC;\n",
              "      --hover-bg-color: #434B5C;\n",
              "      --hover-fill-color: #FFFFFF;\n",
              "      --disabled-bg-color: #3B4455;\n",
              "      --disabled-fill-color: #666;\n",
              "  }\n",
              "\n",
              "  .colab-df-quickchart {\n",
              "    background-color: var(--bg-color);\n",
              "    border: none;\n",
              "    border-radius: 50%;\n",
              "    cursor: pointer;\n",
              "    display: none;\n",
              "    fill: var(--fill-color);\n",
              "    height: 32px;\n",
              "    padding: 0;\n",
              "    width: 32px;\n",
              "  }\n",
              "\n",
              "  .colab-df-quickchart:hover {\n",
              "    background-color: var(--hover-bg-color);\n",
              "    box-shadow: 0 1px 2px rgba(60, 64, 67, 0.3), 0 1px 3px 1px rgba(60, 64, 67, 0.15);\n",
              "    fill: var(--button-hover-fill-color);\n",
              "  }\n",
              "\n",
              "  .colab-df-quickchart-complete:disabled,\n",
              "  .colab-df-quickchart-complete:disabled:hover {\n",
              "    background-color: var(--disabled-bg-color);\n",
              "    fill: var(--disabled-fill-color);\n",
              "    box-shadow: none;\n",
              "  }\n",
              "\n",
              "  .colab-df-spinner {\n",
              "    border: 2px solid var(--fill-color);\n",
              "    border-color: transparent;\n",
              "    border-bottom-color: var(--fill-color);\n",
              "    animation:\n",
              "      spin 1s steps(1) infinite;\n",
              "  }\n",
              "\n",
              "  @keyframes spin {\n",
              "    0% {\n",
              "      border-color: transparent;\n",
              "      border-bottom-color: var(--fill-color);\n",
              "      border-left-color: var(--fill-color);\n",
              "    }\n",
              "    20% {\n",
              "      border-color: transparent;\n",
              "      border-left-color: var(--fill-color);\n",
              "      border-top-color: var(--fill-color);\n",
              "    }\n",
              "    30% {\n",
              "      border-color: transparent;\n",
              "      border-left-color: var(--fill-color);\n",
              "      border-top-color: var(--fill-color);\n",
              "      border-right-color: var(--fill-color);\n",
              "    }\n",
              "    40% {\n",
              "      border-color: transparent;\n",
              "      border-right-color: var(--fill-color);\n",
              "      border-top-color: var(--fill-color);\n",
              "    }\n",
              "    60% {\n",
              "      border-color: transparent;\n",
              "      border-right-color: var(--fill-color);\n",
              "    }\n",
              "    80% {\n",
              "      border-color: transparent;\n",
              "      border-right-color: var(--fill-color);\n",
              "      border-bottom-color: var(--fill-color);\n",
              "    }\n",
              "    90% {\n",
              "      border-color: transparent;\n",
              "      border-bottom-color: var(--fill-color);\n",
              "    }\n",
              "  }\n",
              "</style>\n",
              "\n",
              "      <script>\n",
              "        async function quickchart(key) {\n",
              "          const quickchartButtonEl =\n",
              "            document.querySelector('#' + key + ' button');\n",
              "          quickchartButtonEl.disabled = true;  // To prevent multiple clicks.\n",
              "          quickchartButtonEl.classList.add('colab-df-spinner');\n",
              "          try {\n",
              "            const charts = await google.colab.kernel.invokeFunction(\n",
              "                'suggestCharts', [key], {});\n",
              "          } catch (error) {\n",
              "            console.error('Error during call to suggestCharts:', error);\n",
              "          }\n",
              "          quickchartButtonEl.classList.remove('colab-df-spinner');\n",
              "          quickchartButtonEl.classList.add('colab-df-quickchart-complete');\n",
              "        }\n",
              "        (() => {\n",
              "          let quickchartButtonEl =\n",
              "            document.querySelector('#df-e2cd2d7b-89c6-4f78-816e-d79a7e637536 button');\n",
              "          quickchartButtonEl.style.display =\n",
              "            google.colab.kernel.accessAllowed ? 'block' : 'none';\n",
              "        })();\n",
              "      </script>\n",
              "    </div>\n",
              "\n",
              "  <div id=\"id_bb807c7b-34d0-45d7-aa12-5f02c68a4ebf\">\n",
              "    <style>\n",
              "      .colab-df-generate {\n",
              "        background-color: #E8F0FE;\n",
              "        border: none;\n",
              "        border-radius: 50%;\n",
              "        cursor: pointer;\n",
              "        display: none;\n",
              "        fill: #1967D2;\n",
              "        height: 32px;\n",
              "        padding: 0 0 0 0;\n",
              "        width: 32px;\n",
              "      }\n",
              "\n",
              "      .colab-df-generate:hover {\n",
              "        background-color: #E2EBFA;\n",
              "        box-shadow: 0px 1px 2px rgba(60, 64, 67, 0.3), 0px 1px 3px 1px rgba(60, 64, 67, 0.15);\n",
              "        fill: #174EA6;\n",
              "      }\n",
              "\n",
              "      [theme=dark] .colab-df-generate {\n",
              "        background-color: #3B4455;\n",
              "        fill: #D2E3FC;\n",
              "      }\n",
              "\n",
              "      [theme=dark] .colab-df-generate:hover {\n",
              "        background-color: #434B5C;\n",
              "        box-shadow: 0px 1px 3px 1px rgba(0, 0, 0, 0.15);\n",
              "        filter: drop-shadow(0px 1px 2px rgba(0, 0, 0, 0.3));\n",
              "        fill: #FFFFFF;\n",
              "      }\n",
              "    </style>\n",
              "    <button class=\"colab-df-generate\" onclick=\"generateWithVariable('filtrado')\"\n",
              "            title=\"Generate code using this dataframe.\"\n",
              "            style=\"display:none;\">\n",
              "\n",
              "  <svg xmlns=\"http://www.w3.org/2000/svg\" height=\"24px\"viewBox=\"0 0 24 24\"\n",
              "       width=\"24px\">\n",
              "    <path d=\"M7,19H8.4L18.45,9,17,7.55,7,17.6ZM5,21V16.75L18.45,3.32a2,2,0,0,1,2.83,0l1.4,1.43a1.91,1.91,0,0,1,.58,1.4,1.91,1.91,0,0,1-.58,1.4L9.25,21ZM18.45,9,17,7.55Zm-12,3A5.31,5.31,0,0,0,4.9,8.1,5.31,5.31,0,0,0,1,6.5,5.31,5.31,0,0,0,4.9,4.9,5.31,5.31,0,0,0,6.5,1,5.31,5.31,0,0,0,8.1,4.9,5.31,5.31,0,0,0,12,6.5,5.46,5.46,0,0,0,6.5,12Z\"/>\n",
              "  </svg>\n",
              "    </button>\n",
              "    <script>\n",
              "      (() => {\n",
              "      const buttonEl =\n",
              "        document.querySelector('#id_bb807c7b-34d0-45d7-aa12-5f02c68a4ebf button.colab-df-generate');\n",
              "      buttonEl.style.display =\n",
              "        google.colab.kernel.accessAllowed ? 'block' : 'none';\n",
              "\n",
              "      buttonEl.onclick = () => {\n",
              "        google.colab.notebook.generateWithVariable('filtrado');\n",
              "      }\n",
              "      })();\n",
              "    </script>\n",
              "  </div>\n",
              "\n",
              "    </div>\n",
              "  </div>\n"
            ],
            "application/vnd.google.colaboratory.intrinsic+json": {
              "type": "dataframe",
              "variable_name": "filtrado",
              "summary": "{\n  \"name\": \"filtrado\",\n  \"rows\": 4,\n  \"fields\": [\n    {\n      \"column\": \"producto\",\n      \"properties\": {\n        \"dtype\": \"string\",\n        \"num_unique_values\": 3,\n        \"samples\": [\n          \"A\",\n          \"C\",\n          \"B\"\n        ],\n        \"semantic_type\": \"\",\n        \"description\": \"\"\n      }\n    },\n    {\n      \"column\": \"unidades\",\n      \"properties\": {\n        \"dtype\": \"number\",\n        \"std\": 1,\n        \"min\": 3,\n        \"max\": 6,\n        \"num_unique_values\": 4,\n        \"samples\": [\n          5,\n          6,\n          3\n        ],\n        \"semantic_type\": \"\",\n        \"description\": \"\"\n      }\n    },\n    {\n      \"column\": \"precio\",\n      \"properties\": {\n        \"dtype\": \"number\",\n        \"std\": 2.7427176303804957,\n        \"min\": 4.2,\n        \"max\": 10.0,\n        \"num_unique_values\": 3,\n        \"samples\": [\n          10.0,\n          4.2,\n          8.5\n        ],\n        \"semantic_type\": \"\",\n        \"description\": \"\"\n      }\n    },\n    {\n      \"column\": \"ingreso\",\n      \"properties\": {\n        \"dtype\": \"number\",\n        \"std\": 16.740669042783207,\n        \"min\": 21.0,\n        \"max\": 60.0,\n        \"num_unique_values\": 4,\n        \"samples\": [\n          21.0,\n          60.0,\n          30.0\n        ],\n        \"semantic_type\": \"\",\n        \"description\": \"\"\n      }\n    }\n  ]\n}"
            }
          },
          "metadata": {}
        },
        {
          "output_type": "display_data",
          "data": {
            "text/plain": [
              "  producto  unidades_totales  ingreso_total  precio_medio\n",
              "0        A                11          110.0          10.0\n",
              "1        B                 5           42.5           8.5\n",
              "2        C                 5           21.0           4.2"
            ],
            "text/html": [
              "\n",
              "  <div id=\"df-3c6db0f4-cb69-4966-9f69-6f55e36a7705\" class=\"colab-df-container\">\n",
              "    <div>\n",
              "<style scoped>\n",
              "    .dataframe tbody tr th:only-of-type {\n",
              "        vertical-align: middle;\n",
              "    }\n",
              "\n",
              "    .dataframe tbody tr th {\n",
              "        vertical-align: top;\n",
              "    }\n",
              "\n",
              "    .dataframe thead th {\n",
              "        text-align: right;\n",
              "    }\n",
              "</style>\n",
              "<table border=\"1\" class=\"dataframe\">\n",
              "  <thead>\n",
              "    <tr style=\"text-align: right;\">\n",
              "      <th></th>\n",
              "      <th>producto</th>\n",
              "      <th>unidades_totales</th>\n",
              "      <th>ingreso_total</th>\n",
              "      <th>precio_medio</th>\n",
              "    </tr>\n",
              "  </thead>\n",
              "  <tbody>\n",
              "    <tr>\n",
              "      <th>0</th>\n",
              "      <td>A</td>\n",
              "      <td>11</td>\n",
              "      <td>110.0</td>\n",
              "      <td>10.0</td>\n",
              "    </tr>\n",
              "    <tr>\n",
              "      <th>1</th>\n",
              "      <td>B</td>\n",
              "      <td>5</td>\n",
              "      <td>42.5</td>\n",
              "      <td>8.5</td>\n",
              "    </tr>\n",
              "    <tr>\n",
              "      <th>2</th>\n",
              "      <td>C</td>\n",
              "      <td>5</td>\n",
              "      <td>21.0</td>\n",
              "      <td>4.2</td>\n",
              "    </tr>\n",
              "  </tbody>\n",
              "</table>\n",
              "</div>\n",
              "    <div class=\"colab-df-buttons\">\n",
              "\n",
              "  <div class=\"colab-df-container\">\n",
              "    <button class=\"colab-df-convert\" onclick=\"convertToInteractive('df-3c6db0f4-cb69-4966-9f69-6f55e36a7705')\"\n",
              "            title=\"Convert this dataframe to an interactive table.\"\n",
              "            style=\"display:none;\">\n",
              "\n",
              "  <svg xmlns=\"http://www.w3.org/2000/svg\" height=\"24px\" viewBox=\"0 -960 960 960\">\n",
              "    <path d=\"M120-120v-720h720v720H120Zm60-500h600v-160H180v160Zm220 220h160v-160H400v160Zm0 220h160v-160H400v160ZM180-400h160v-160H180v160Zm440 0h160v-160H620v160ZM180-180h160v-160H180v160Zm440 0h160v-160H620v160Z\"/>\n",
              "  </svg>\n",
              "    </button>\n",
              "\n",
              "  <style>\n",
              "    .colab-df-container {\n",
              "      display:flex;\n",
              "      gap: 12px;\n",
              "    }\n",
              "\n",
              "    .colab-df-convert {\n",
              "      background-color: #E8F0FE;\n",
              "      border: none;\n",
              "      border-radius: 50%;\n",
              "      cursor: pointer;\n",
              "      display: none;\n",
              "      fill: #1967D2;\n",
              "      height: 32px;\n",
              "      padding: 0 0 0 0;\n",
              "      width: 32px;\n",
              "    }\n",
              "\n",
              "    .colab-df-convert:hover {\n",
              "      background-color: #E2EBFA;\n",
              "      box-shadow: 0px 1px 2px rgba(60, 64, 67, 0.3), 0px 1px 3px 1px rgba(60, 64, 67, 0.15);\n",
              "      fill: #174EA6;\n",
              "    }\n",
              "\n",
              "    .colab-df-buttons div {\n",
              "      margin-bottom: 4px;\n",
              "    }\n",
              "\n",
              "    [theme=dark] .colab-df-convert {\n",
              "      background-color: #3B4455;\n",
              "      fill: #D2E3FC;\n",
              "    }\n",
              "\n",
              "    [theme=dark] .colab-df-convert:hover {\n",
              "      background-color: #434B5C;\n",
              "      box-shadow: 0px 1px 3px 1px rgba(0, 0, 0, 0.15);\n",
              "      filter: drop-shadow(0px 1px 2px rgba(0, 0, 0, 0.3));\n",
              "      fill: #FFFFFF;\n",
              "    }\n",
              "  </style>\n",
              "\n",
              "    <script>\n",
              "      const buttonEl =\n",
              "        document.querySelector('#df-3c6db0f4-cb69-4966-9f69-6f55e36a7705 button.colab-df-convert');\n",
              "      buttonEl.style.display =\n",
              "        google.colab.kernel.accessAllowed ? 'block' : 'none';\n",
              "\n",
              "      async function convertToInteractive(key) {\n",
              "        const element = document.querySelector('#df-3c6db0f4-cb69-4966-9f69-6f55e36a7705');\n",
              "        const dataTable =\n",
              "          await google.colab.kernel.invokeFunction('convertToInteractive',\n",
              "                                                    [key], {});\n",
              "        if (!dataTable) return;\n",
              "\n",
              "        const docLinkHtml = 'Like what you see? Visit the ' +\n",
              "          '<a target=\"_blank\" href=https://colab.research.google.com/notebooks/data_table.ipynb>data table notebook</a>'\n",
              "          + ' to learn more about interactive tables.';\n",
              "        element.innerHTML = '';\n",
              "        dataTable['output_type'] = 'display_data';\n",
              "        await google.colab.output.renderOutput(dataTable, element);\n",
              "        const docLink = document.createElement('div');\n",
              "        docLink.innerHTML = docLinkHtml;\n",
              "        element.appendChild(docLink);\n",
              "      }\n",
              "    </script>\n",
              "  </div>\n",
              "\n",
              "\n",
              "    <div id=\"df-329d26c9-109d-4207-80ec-3e1806fb2d17\">\n",
              "      <button class=\"colab-df-quickchart\" onclick=\"quickchart('df-329d26c9-109d-4207-80ec-3e1806fb2d17')\"\n",
              "                title=\"Suggest charts\"\n",
              "                style=\"display:none;\">\n",
              "\n",
              "<svg xmlns=\"http://www.w3.org/2000/svg\" height=\"24px\"viewBox=\"0 0 24 24\"\n",
              "     width=\"24px\">\n",
              "    <g>\n",
              "        <path d=\"M19 3H5c-1.1 0-2 .9-2 2v14c0 1.1.9 2 2 2h14c1.1 0 2-.9 2-2V5c0-1.1-.9-2-2-2zM9 17H7v-7h2v7zm4 0h-2V7h2v10zm4 0h-2v-4h2v4z\"/>\n",
              "    </g>\n",
              "</svg>\n",
              "      </button>\n",
              "\n",
              "<style>\n",
              "  .colab-df-quickchart {\n",
              "      --bg-color: #E8F0FE;\n",
              "      --fill-color: #1967D2;\n",
              "      --hover-bg-color: #E2EBFA;\n",
              "      --hover-fill-color: #174EA6;\n",
              "      --disabled-fill-color: #AAA;\n",
              "      --disabled-bg-color: #DDD;\n",
              "  }\n",
              "\n",
              "  [theme=dark] .colab-df-quickchart {\n",
              "      --bg-color: #3B4455;\n",
              "      --fill-color: #D2E3FC;\n",
              "      --hover-bg-color: #434B5C;\n",
              "      --hover-fill-color: #FFFFFF;\n",
              "      --disabled-bg-color: #3B4455;\n",
              "      --disabled-fill-color: #666;\n",
              "  }\n",
              "\n",
              "  .colab-df-quickchart {\n",
              "    background-color: var(--bg-color);\n",
              "    border: none;\n",
              "    border-radius: 50%;\n",
              "    cursor: pointer;\n",
              "    display: none;\n",
              "    fill: var(--fill-color);\n",
              "    height: 32px;\n",
              "    padding: 0;\n",
              "    width: 32px;\n",
              "  }\n",
              "\n",
              "  .colab-df-quickchart:hover {\n",
              "    background-color: var(--hover-bg-color);\n",
              "    box-shadow: 0 1px 2px rgba(60, 64, 67, 0.3), 0 1px 3px 1px rgba(60, 64, 67, 0.15);\n",
              "    fill: var(--button-hover-fill-color);\n",
              "  }\n",
              "\n",
              "  .colab-df-quickchart-complete:disabled,\n",
              "  .colab-df-quickchart-complete:disabled:hover {\n",
              "    background-color: var(--disabled-bg-color);\n",
              "    fill: var(--disabled-fill-color);\n",
              "    box-shadow: none;\n",
              "  }\n",
              "\n",
              "  .colab-df-spinner {\n",
              "    border: 2px solid var(--fill-color);\n",
              "    border-color: transparent;\n",
              "    border-bottom-color: var(--fill-color);\n",
              "    animation:\n",
              "      spin 1s steps(1) infinite;\n",
              "  }\n",
              "\n",
              "  @keyframes spin {\n",
              "    0% {\n",
              "      border-color: transparent;\n",
              "      border-bottom-color: var(--fill-color);\n",
              "      border-left-color: var(--fill-color);\n",
              "    }\n",
              "    20% {\n",
              "      border-color: transparent;\n",
              "      border-left-color: var(--fill-color);\n",
              "      border-top-color: var(--fill-color);\n",
              "    }\n",
              "    30% {\n",
              "      border-color: transparent;\n",
              "      border-left-color: var(--fill-color);\n",
              "      border-top-color: var(--fill-color);\n",
              "      border-right-color: var(--fill-color);\n",
              "    }\n",
              "    40% {\n",
              "      border-color: transparent;\n",
              "      border-right-color: var(--fill-color);\n",
              "      border-top-color: var(--fill-color);\n",
              "    }\n",
              "    60% {\n",
              "      border-color: transparent;\n",
              "      border-right-color: var(--fill-color);\n",
              "    }\n",
              "    80% {\n",
              "      border-color: transparent;\n",
              "      border-right-color: var(--fill-color);\n",
              "      border-bottom-color: var(--fill-color);\n",
              "    }\n",
              "    90% {\n",
              "      border-color: transparent;\n",
              "      border-bottom-color: var(--fill-color);\n",
              "    }\n",
              "  }\n",
              "</style>\n",
              "\n",
              "      <script>\n",
              "        async function quickchart(key) {\n",
              "          const quickchartButtonEl =\n",
              "            document.querySelector('#' + key + ' button');\n",
              "          quickchartButtonEl.disabled = true;  // To prevent multiple clicks.\n",
              "          quickchartButtonEl.classList.add('colab-df-spinner');\n",
              "          try {\n",
              "            const charts = await google.colab.kernel.invokeFunction(\n",
              "                'suggestCharts', [key], {});\n",
              "          } catch (error) {\n",
              "            console.error('Error during call to suggestCharts:', error);\n",
              "          }\n",
              "          quickchartButtonEl.classList.remove('colab-df-spinner');\n",
              "          quickchartButtonEl.classList.add('colab-df-quickchart-complete');\n",
              "        }\n",
              "        (() => {\n",
              "          let quickchartButtonEl =\n",
              "            document.querySelector('#df-329d26c9-109d-4207-80ec-3e1806fb2d17 button');\n",
              "          quickchartButtonEl.style.display =\n",
              "            google.colab.kernel.accessAllowed ? 'block' : 'none';\n",
              "        })();\n",
              "      </script>\n",
              "    </div>\n",
              "\n",
              "  <div id=\"id_f7a14dd4-6a74-4511-b646-726eee38c072\">\n",
              "    <style>\n",
              "      .colab-df-generate {\n",
              "        background-color: #E8F0FE;\n",
              "        border: none;\n",
              "        border-radius: 50%;\n",
              "        cursor: pointer;\n",
              "        display: none;\n",
              "        fill: #1967D2;\n",
              "        height: 32px;\n",
              "        padding: 0 0 0 0;\n",
              "        width: 32px;\n",
              "      }\n",
              "\n",
              "      .colab-df-generate:hover {\n",
              "        background-color: #E2EBFA;\n",
              "        box-shadow: 0px 1px 2px rgba(60, 64, 67, 0.3), 0px 1px 3px 1px rgba(60, 64, 67, 0.15);\n",
              "        fill: #174EA6;\n",
              "      }\n",
              "\n",
              "      [theme=dark] .colab-df-generate {\n",
              "        background-color: #3B4455;\n",
              "        fill: #D2E3FC;\n",
              "      }\n",
              "\n",
              "      [theme=dark] .colab-df-generate:hover {\n",
              "        background-color: #434B5C;\n",
              "        box-shadow: 0px 1px 3px 1px rgba(0, 0, 0, 0.15);\n",
              "        filter: drop-shadow(0px 1px 2px rgba(0, 0, 0, 0.3));\n",
              "        fill: #FFFFFF;\n",
              "      }\n",
              "    </style>\n",
              "    <button class=\"colab-df-generate\" onclick=\"generateWithVariable('resumen')\"\n",
              "            title=\"Generate code using this dataframe.\"\n",
              "            style=\"display:none;\">\n",
              "\n",
              "  <svg xmlns=\"http://www.w3.org/2000/svg\" height=\"24px\"viewBox=\"0 0 24 24\"\n",
              "       width=\"24px\">\n",
              "    <path d=\"M7,19H8.4L18.45,9,17,7.55,7,17.6ZM5,21V16.75L18.45,3.32a2,2,0,0,1,2.83,0l1.4,1.43a1.91,1.91,0,0,1,.58,1.4,1.91,1.91,0,0,1-.58,1.4L9.25,21ZM18.45,9,17,7.55Zm-12,3A5.31,5.31,0,0,0,4.9,8.1,5.31,5.31,0,0,0,1,6.5,5.31,5.31,0,0,0,4.9,4.9,5.31,5.31,0,0,0,6.5,1,5.31,5.31,0,0,0,8.1,4.9,5.31,5.31,0,0,0,12,6.5,5.46,5.46,0,0,0,6.5,12Z\"/>\n",
              "  </svg>\n",
              "    </button>\n",
              "    <script>\n",
              "      (() => {\n",
              "      const buttonEl =\n",
              "        document.querySelector('#id_f7a14dd4-6a74-4511-b646-726eee38c072 button.colab-df-generate');\n",
              "      buttonEl.style.display =\n",
              "        google.colab.kernel.accessAllowed ? 'block' : 'none';\n",
              "\n",
              "      buttonEl.onclick = () => {\n",
              "        google.colab.notebook.generateWithVariable('resumen');\n",
              "      }\n",
              "      })();\n",
              "    </script>\n",
              "  </div>\n",
              "\n",
              "    </div>\n",
              "  </div>\n"
            ],
            "application/vnd.google.colaboratory.intrinsic+json": {
              "type": "dataframe",
              "variable_name": "resumen",
              "summary": "{\n  \"name\": \"resumen\",\n  \"rows\": 3,\n  \"fields\": [\n    {\n      \"column\": \"producto\",\n      \"properties\": {\n        \"dtype\": \"string\",\n        \"num_unique_values\": 3,\n        \"samples\": [\n          \"A\",\n          \"B\",\n          \"C\"\n        ],\n        \"semantic_type\": \"\",\n        \"description\": \"\"\n      }\n    },\n    {\n      \"column\": \"unidades_totales\",\n      \"properties\": {\n        \"dtype\": \"number\",\n        \"std\": 3,\n        \"min\": 5,\n        \"max\": 11,\n        \"num_unique_values\": 2,\n        \"samples\": [\n          5,\n          11\n        ],\n        \"semantic_type\": \"\",\n        \"description\": \"\"\n      }\n    },\n    {\n      \"column\": \"ingreso_total\",\n      \"properties\": {\n        \"dtype\": \"number\",\n        \"std\": 46.43902812649435,\n        \"min\": 21.0,\n        \"max\": 110.0,\n        \"num_unique_values\": 3,\n        \"samples\": [\n          110.0,\n          42.5\n        ],\n        \"semantic_type\": \"\",\n        \"description\": \"\"\n      }\n    },\n    {\n      \"column\": \"precio_medio\",\n      \"properties\": {\n        \"dtype\": \"number\",\n        \"std\": 3.0105370506494906,\n        \"min\": 4.2,\n        \"max\": 10.0,\n        \"num_unique_values\": 3,\n        \"samples\": [\n          10.0,\n          8.5\n        ],\n        \"semantic_type\": \"\",\n        \"description\": \"\"\n      }\n    }\n  ]\n}"
            }
          },
          "metadata": {}
        },
        {
          "output_type": "stream",
          "name": "stdout",
          "text": [
            "       unidades     precio    ingreso\n",
            "count  6.000000   6.000000   6.000000\n",
            "mean   3.500000   8.533333  28.916667\n",
            "std    1.870829   2.246479  17.619355\n",
            "min    1.000000   4.200000   8.500000\n",
            "25%    2.250000   8.500000  20.250000\n",
            "50%    3.500000   9.250000  25.500000\n",
            "75%    4.750000  10.000000  33.000000\n",
            "max    6.000000  10.000000  60.000000\n"
          ]
        }
      ],
      "source": [
        "# EJEMPLO (Pandas)\n",
        "import pandas as pd\n",
        "\n",
        "datos = {\n",
        "    \"producto\": [\"A\", \"B\", \"A\", \"C\", \"B\", \"A\"],\n",
        "    \"unidades\": [3, 1, 2, 5, 4, 6],\n",
        "    \"precio\":   [10.0, 8.5, 10.0, 4.2, 8.5, 10.0],\n",
        "}\n",
        "df = pd.DataFrame(datos)\n",
        "display(df.head())\n",
        "\n",
        "# Nueva columna: ingreso\n",
        "df[\"ingreso\"] = df[\"unidades\"] * df[\"precio\"]\n",
        "\n",
        "# Filtrar: ingresos > 20\n",
        "filtrado = df[df[\"ingreso\"] > 20]\n",
        "display(filtrado)\n",
        "\n",
        "# Agrupar por producto\n",
        "resumen = df.groupby(\"producto\").agg(\n",
        "    unidades_totales=(\"unidades\", \"sum\"),\n",
        "    ingreso_total=(\"ingreso\", \"sum\"),\n",
        "    precio_medio=(\"precio\", \"mean\")\n",
        ").reset_index()\n",
        "\n",
        "display(resumen)\n",
        "print(df.select_dtypes(include=\"number\").describe())"
      ]
    },
    {
      "cell_type": "code",
      "execution_count": null,
      "id": "543377a9",
      "metadata": {
        "id": "543377a9"
      },
      "outputs": [],
      "source": [
        "# EJERCICIO (Pandas)\n",
        "# 1. Crea un DataFrame 'alumnos' con columnas: nombre, curso, nota (0-10).\n",
        "# 2. Añade una columna 'aprobado' (True si nota >= 5).\n",
        "# 3. Muestra solo los alumnos aprobados.\n",
        "# 4. Calcula el promedio de nota por curso.\n",
        "# 5. (Opcional) Ordena por nota descendente y muestra el top 3.\n",
        "\n",
        "# Escribe tu solución aquí:\n",
        "import pandas as pd\n",
        "alumnos = pd.DataFrame({\n",
        "    # \"nombre\": [...],\n",
        "    # \"curso\":  [...],\n",
        "    # \"nota\":   [...],\n",
        "})\n"
      ]
    },
    {
      "cell_type": "code",
      "execution_count": null,
      "id": "982704e8",
      "metadata": {
        "id": "982704e8"
      },
      "outputs": [],
      "source": [
        "# EJERCICIO EXTRA (Pandas)\n",
        "# Crea un DataFrame 'ventas' con columnas: fecha (YYYY-MM-DD), categoria, producto, unidades, precio.\n",
        "# 1) Añade columna 'ingreso' = unidades*precio.\n",
        "# 2) Filtra las filas del mes de \"2025-03\".\n",
        "# 3) Calcula el ingreso total por categoria y ordénalo de mayor a menor.\n",
        "# 4) (Opcional) Crea una tabla pivote con indice=categoria, columnas=producto, valores=ingreso (suma).\n",
        "\n",
        "import pandas as pd\n",
        "\n",
        "ventas = pd.DataFrame({\n",
        "    \"fecha\":    [\"2025-03-01\",\"2025-03-02\",\"2025-03-02\",\"2025-03-15\",\"2025-04-01\",\"2025-03-20\"],\n",
        "    \"categoria\":[\"Electrónica\",\"Hogar\",\"Electrónica\",\"Juguetes\",\"Hogar\",\"Electrónica\"],\n",
        "    \"producto\": [\"Auriculares\",\"Silla\",\"Teclado\",\"Puzzle\",\"Mesa\",\"Ratón\"],\n",
        "    \"unidades\": [2, 1, 3, 5, 1, 4],\n",
        "    \"precio\":   [25.0, 45.0, 20.0, 8.0, 70.0, 15.0],\n",
        "})\n",
        "\n",
        "# Escribe tu solución aquí:\n"
      ]
    },
    {
      "cell_type": "code",
      "source": [
        "# EJERCICIO EXTRA (Pandas)\n",
        "#Elegir un excel o csv a su gusto, leerlo desde Python y realizar un info(), describe()\n",
        "# Escribe tu solución aquí:"
      ],
      "metadata": {
        "id": "eSfRX3G6xi0b"
      },
      "id": "eSfRX3G6xi0b",
      "execution_count": null,
      "outputs": []
    },
    {
      "cell_type": "markdown",
      "id": "679df1b8",
      "metadata": {
        "id": "679df1b8"
      },
      "source": [
        "---\n",
        "\n",
        "## Soluciones sugeridas (revela solo si lo necesitas)\n",
        "\n",
        "A continuación hay una posible forma de resolver cada ejercicio. No es la única.\n"
      ]
    },
    {
      "cell_type": "code",
      "execution_count": null,
      "id": "63e3cf3a",
      "metadata": {
        "id": "63e3cf3a"
      },
      "outputs": [],
      "source": [
        "# SOLUCIÓN (Listas)\n",
        "temperaturas = [18.5, 20.0, 19.2, 22.1, 21.0, 17.8, 20.3]\n",
        "print(\"Primera:\", temperaturas[0])\n",
        "print(\"Tres últimas:\", temperaturas[-3:])\n",
        "print(\"Cada 2:\", temperaturas[::2])\n",
        "\n",
        "# Agregar y eliminar\n",
        "temperaturas.append(19.9)\n",
        "temperaturas.remove(17.8)\n",
        "\n",
        "# Ordenar sin modificar original\n",
        "ordenadas = sorted(temperaturas)\n",
        "print(\"Original:\", temperaturas)\n",
        "print(\"Ordenadas:\", ordenadas)\n",
        "\n",
        "# Promedio\n",
        "promedio = sum(ordenadas) / len(ordenadas)\n",
        "print(\"Promedio:\", round(promedio, 2))"
      ]
    },
    {
      "cell_type": "code",
      "execution_count": null,
      "id": "d7527063",
      "metadata": {
        "id": "d7527063"
      },
      "outputs": [],
      "source": [
        "# SOLUCIÓN (Tuplas)\n",
        "producto = (\"Teclado\", 24.99, True)\n",
        "nombre, precio, en_stock = producto\n",
        "print(f\"Producto: {nombre} | Precio: {precio} | En stock: {en_stock}\")\n",
        "\n",
        "dimensiones = (45.0, 3.5, 12.0)  # ancho, alto, largo\n",
        "_, alto, _ = dimensiones\n",
        "print(\"Alto:\", alto)"
      ]
    },
    {
      "cell_type": "code",
      "execution_count": null,
      "id": "b41a0a1c",
      "metadata": {
        "id": "b41a0a1c"
      },
      "outputs": [],
      "source": [
        "# SOLUCIÓN (Diccionarios)\n",
        "ventas = [\n",
        "    {\"producto\": \"A\", \"unidades\": 3, \"precio\": 10.0},\n",
        "    {\"producto\": \"B\", \"unidades\": 1, \"precio\": 8.5},\n",
        "    {\"producto\": \"A\", \"unidades\": 2, \"precio\": 10.0},\n",
        "    {\"producto\": \"C\", \"unidades\": 5, \"precio\": 4.2},\n",
        "    {\"producto\": \"B\", \"unidades\": 4, \"precio\": 8.5},\n",
        "]\n",
        "\n",
        "totales = {}\n",
        "for v in ventas:\n",
        "    p = v[\"producto\"]\n",
        "    ingreso = v[\"unidades\"] * v[\"precio\"]\n",
        "    totales[p] = totales.get(p, 0) + ingreso\n",
        "\n",
        "print(\"Totales por producto:\", totales)\n",
        "\n",
        "# Producto con mayor ingreso\n",
        "producto_top = max(totales, key=totales.get)\n",
        "print(\"Mayor ingreso:\", producto_top, \"->\", totales[producto_top])\n",
        "\n",
        "# (Opcional) Unidades totales\n",
        "unidades_totales = {}\n",
        "for v in ventas:\n",
        "    p = v[\"producto\"]\n",
        "    unidades_totales[p] = unidades_totales.get(p, 0) + v[\"unidades\"]\n",
        "print(\"Unidades totales:\", unidades_totales)"
      ]
    },
    {
      "cell_type": "code",
      "execution_count": null,
      "id": "70f78c6b",
      "metadata": {
        "id": "70f78c6b"
      },
      "outputs": [],
      "source": [
        "# SOLUCIÓN (Pandas)\n",
        "import pandas as pd\n",
        "\n",
        "alumnos = pd.DataFrame({\n",
        "    \"nombre\": [\"Ana\", \"Luis\", \"Marta\", \"Pedro\", \"Lucía\", \"Sergio\"],\n",
        "    \"curso\":  [\"1A\", \"1A\", \"2B\", \"2B\", \"1A\", \"3C\"],\n",
        "    \"nota\":   [7.5, 4.3, 9.1, 5.0, 6.2, 3.8],\n",
        "})\n",
        "\n",
        "alumnos[\"aprobado\"] = alumnos[\"nota\"] >= 5\n",
        "aprobados = alumnos[alumnos[\"aprobado\"]]\n",
        "print(\"Aprobados:\")\n",
        "display(aprobados)\n",
        "\n",
        "promedio_por_curso = alumnos.groupby(\"curso\")[\"nota\"].mean().reset_index(name=\"promedio\")\n",
        "print(\"Promedio por curso:\")\n",
        "display(promedio_por_curso)\n",
        "\n",
        "top3 = alumnos.sort_values(\"nota\", ascending=False).head(3)\n",
        "print(\"Top 3:\")\n",
        "display(top3)"
      ]
    }
  ],
  "metadata": {
    "colab": {
      "provenance": [],
      "include_colab_link": true
    },
    "language_info": {
      "name": "python"
    },
    "kernelspec": {
      "name": "python3",
      "display_name": "Python 3"
    }
  },
  "nbformat": 4,
  "nbformat_minor": 5
}
